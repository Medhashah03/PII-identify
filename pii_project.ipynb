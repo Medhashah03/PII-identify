{
 "cells": [
  {
   "cell_type": "code",
   "execution_count": 1,
   "metadata": {},
   "outputs": [],
   "source": [
    "import pandas as pd\n",
    "df = pd.DataFrame(columns = ['pii_type' ,'pii_value','random_key','encrypted_key'])"
   ]
  },
  {
   "cell_type": "code",
   "execution_count": 2,
   "metadata": {},
   "outputs": [],
   "source": [
    "import re\n",
    "\n",
    "def identify_pii(text):\n",
    "    # Regular expressions to identify PII\n",
    "    email_pattern = r'\\b[A-Za-z0-9._%+-]+@[A-Za-z0-9.-]+\\.[A-Z|a-z]{2,7}\\b'\n",
    "    phone_pattern = r'\\b(?:\\d{10}|\\d{3}[-.\\s]??\\d{3}[-.\\s]??\\d{4}|\\(\\d{3}\\)\\s*\\d{3}[-.\\s]??\\d{4}|\\d{3}[-.\\s]??\\d{4})\\b'\n",
    "    pii_dict = {\"email\": [], \"phone\": []}\n",
    "    \n",
    "    # Find email addresses\n",
    "    email_matches = re.findall(email_pattern, text)\n",
    "    pii_dict[\"email\"].extend(email_matches)\n",
    "    \n",
    "    # Find phone numbers\n",
    "    phone_matches = re.findall(phone_pattern, text)\n",
    "    pii_dict[\"phone\"].extend(phone_matches)\n",
    "    \n",
    "    return pii_dict\n",
    "def identify_spdi(text):\n",
    "    # Regular expressions to identify SPDI\n",
    "    spdi_keywords = ['password', 'credit card', 'social security', 'financial account', 'health information']\n",
    "    \n",
    "    spdi_list = []\n",
    "    \n",
    "    # Find SPDI keywords\n",
    "    for keyword in spdi_keywords:\n",
    "        if re.search(r'\\b' + re.escape(keyword) + r'\\b', text, flags=re.IGNORECASE):\n",
    "            spdi_list.append(keyword)\n",
    "    \n",
    "    return spdi_list"
   ]
  },
  {
   "cell_type": "code",
   "execution_count": 9,
   "metadata": {},
   "outputs": [],
   "source": [
    "import random\n",
    "import string\n",
    "def get_random_letters(length):\n",
    "    return ''.join(random.choice(string.ascii_lowercase) for _ in range(length))\n",
    "def get_random_numbers(length):\n",
    "    return ''.join(str(random.randint(0, 9)) for _ in range(length))"
   ]
  },
  {
   "cell_type": "code",
   "execution_count": 3,
   "metadata": {},
   "outputs": [],
   "source": [
    "#encrypt\n",
    "def caesar_cipher_encrypt(text, shift):\n",
    "    encrypted_text = ''\n",
    "    for char in text:\n",
    "        if char.isalpha():\n",
    "            base = ord('a') if char.islower() else ord('A')\n",
    "            encrypted_char = chr((ord(char) - base + shift) % 26 + base)\n",
    "        else:\n",
    "            encrypted_char = char\n",
    "        encrypted_text += encrypted_char\n",
    "    return encrypted_text\n",
    "\n"
   ]
  },
  {
   "cell_type": "code",
   "execution_count": 19,
   "metadata": {},
   "outputs": [
    {
     "name": "stdout",
     "output_type": "stream",
     "text": [
      "Identified PII: {'email': ['john.doe@example.com', 'riyas@gmail.com'], 'phone': ['555-123-4567', '555-123-4569', '555-123-4598', '555-123-4576']}\n",
      "Identified SPDI: ['password', 'credit card']\n"
     ]
    }
   ],
   "source": [
    "text = \"\"\"\n",
    "My email is john.doe@example.com or riyas@gmail.com and my phone number is 555-123-4567 and 555-123-4569 and 555-123-4598, 555-123-4576.\n",
    "Please don't share my password or credit card details.\n",
    "I have a social security number: 123-45-6789.\n",
    "\"\"\"\n",
    "\n",
    "pii_results = identify_pii(text)\n",
    "spdi_results = identify_spdi(text)\n",
    "\n",
    "print(\"Identified PII:\", pii_results)\n",
    "print(\"Identified SPDI:\", spdi_results)"
   ]
  },
  {
   "cell_type": "code",
   "execution_count": 20,
   "metadata": {},
   "outputs": [],
   "source": [
    "def email_gen(email_key):\n",
    "    count=0\n",
    "    for s in email_key:\n",
    "        count=count+1\n",
    "    random_letters = get_random_letters(count)\n",
    "    return random_letters\n",
    "\n",
    "def contact_gen(contact_key):\n",
    "    count=0\n",
    "    for s in contact_key:\n",
    "        count=count+1\n",
    "    random_numbers = get_random_numbers(count)\n",
    "    return random_numbers"
   ]
  },
  {
   "cell_type": "code",
   "execution_count": 21,
   "metadata": {},
   "outputs": [
    {
     "name": "stdout",
     "output_type": "stream",
     "text": [
      "  pii_type             pii_value            random_key         encrypted_key\n",
      "0    email  john.doe@example.com  znojvfrzajkzpnilsmdk  cqrmyiucdmncsqlovpgn\n",
      "1    email       riyas@gmail.com       cmbptvlwqsznqku       fpeswyoztvcqtnx\n",
      "2    phone          555-123-4567          310209365411          310209365411\n",
      "3    phone          555-123-4569          224698458971          224698458971\n",
      "4    phone          555-123-4598          352440576971          352440576971\n",
      "5    phone          555-123-4576          906045494026          906045494026\n"
     ]
    }
   ],
   "source": [
    "new_pii_types = []\n",
    "new_pii_values = []\n",
    "new_pii_gen =[]\n",
    "encrypt_gen =[]\n",
    "\n",
    "for key, values in pii_results.items():\n",
    "    for value in values:\n",
    "        if value not in df['pii_value'].values:\n",
    "            new_pii_types.append(key)\n",
    "            new_pii_values.append(value)\n",
    "            if key==\"email\":\n",
    "                gen=email_gen(value)\n",
    "                # print(gen)\n",
    "                new_pii_gen.append(gen)\n",
    "            if key==\"phone\":\n",
    "                \n",
    "                gen=contact_gen(value)\n",
    "                # print(gen)\n",
    "                new_pii_gen.append(gen)\n",
    "        \n",
    "\n",
    "\n",
    "encrypted_keys = [caesar_cipher_encrypt(key, 3) for key in new_pii_gen]\n",
    "new_data = {\n",
    "    'pii_type': new_pii_types,\n",
    "    'pii_value': new_pii_values,\n",
    "    'random_key':new_pii_gen,\n",
    "    'encrypted_key':encrypted_keys\n",
    "}\n",
    "data_df = pd.DataFrame(new_data)\n",
    "df3 = pd.concat([df, data_df], ignore_index=True)\n",
    "\n",
    "print(df3)"
   ]
  },
  {
   "cell_type": "code",
   "execution_count": 26,
   "metadata": {},
   "outputs": [
    {
     "name": "stdout",
     "output_type": "stream",
     "text": [
      "Encrypted Text: \n",
      "My email is rupxhzcvmvvbginoczsk or ccceneufbyrvvle and my phone number is 869698785831 and 978718035165 and 495733593541, 730496188321.\n",
      "Please don't share my password or credit card details.\n",
      "I have a social security number: 123-45-6789.\n",
      "\n"
     ]
    }
   ],
   "source": [
    "pii_encryption_map = dict(zip(df3['pii_value'], df3['encrypted_key']))\n",
    "for pii_value, encrypted_value in pii_encryption_map.items():\n",
    "    itext = itext.replace(pii_value, encrypted_value)\n",
    "\n",
    "print(\"Encrypted Text:\", itext)"
   ]
  }
 ],
 "metadata": {
  "kernelspec": {
   "display_name": "venv-venv",
   "language": "python",
   "name": "venv-venv"
  },
  "language_info": {
   "codemirror_mode": {
    "name": "ipython",
    "version": 3
   },
   "file_extension": ".py",
   "mimetype": "text/x-python",
   "name": "python",
   "nbconvert_exporter": "python",
   "pygments_lexer": "ipython3",
   "version": "3.11.0"
  },
  "orig_nbformat": 4
 },
 "nbformat": 4,
 "nbformat_minor": 2
}
