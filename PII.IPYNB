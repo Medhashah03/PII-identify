{
 "cells": [
  {
   "cell_type": "code",
   "execution_count": 1,
   "metadata": {},
   "outputs": [
    {
     "name": "stdout",
     "output_type": "stream",
     "text": [
      "Collecting nltk\n",
      "  Using cached nltk-3.8.1-py3-none-any.whl (1.5 MB)\n",
      "Collecting click\n",
      "  Downloading click-8.1.6-py3-none-any.whl (97 kB)\n",
      "     ---------------------------------------- 97.9/97.9 kB 2.7 MB/s eta 0:00:00\n",
      "Collecting joblib\n",
      "  Downloading joblib-1.3.1-py3-none-any.whl (301 kB)\n",
      "     -------------------------------------- 302.0/302.0 kB 2.7 MB/s eta 0:00:00\n",
      "Collecting regex>=2021.8.3\n",
      "  Downloading regex-2023.6.3-cp311-cp311-win_amd64.whl (268 kB)\n",
      "     -------------------------------------- 268.0/268.0 kB 2.7 MB/s eta 0:00:00\n",
      "Requirement already satisfied: tqdm in c:\\users\\m0307\\desktop\\ampius\\venv-venv\\lib\\site-packages (from nltk) (4.65.0)\n",
      "Requirement already satisfied: colorama in c:\\users\\m0307\\desktop\\ampius\\venv-venv\\lib\\site-packages (from click->nltk) (0.4.6)\n",
      "Installing collected packages: regex, joblib, click, nltk\n",
      "Successfully installed click-8.1.6 joblib-1.3.1 nltk-3.8.1 regex-2023.6.3\n"
     ]
    },
    {
     "name": "stderr",
     "output_type": "stream",
     "text": [
      "\n",
      "[notice] A new release of pip available: 22.3 -> 23.2.1\n",
      "[notice] To update, run: python.exe -m pip install --upgrade pip\n"
     ]
    }
   ],
   "source": [
    "!pip install nltk\n"
   ]
  },
  {
   "cell_type": "code",
   "execution_count": 2,
   "metadata": {},
   "outputs": [
    {
     "name": "stderr",
     "output_type": "stream",
     "text": [
      "[nltk_data] Downloading package punkt to\n",
      "[nltk_data]     C:\\Users\\m0307\\AppData\\Roaming\\nltk_data...\n",
      "[nltk_data]   Package punkt is already up-to-date!\n",
      "[nltk_data] Downloading package stopwords to\n",
      "[nltk_data]     C:\\Users\\m0307\\AppData\\Roaming\\nltk_data...\n",
      "[nltk_data]   Package stopwords is already up-to-date!\n"
     ]
    },
    {
     "data": {
      "text/plain": [
       "True"
      ]
     },
     "execution_count": 2,
     "metadata": {},
     "output_type": "execute_result"
    }
   ],
   "source": [
    "import nltk\n",
    "from nltk.tokenize import sent_tokenize, word_tokenize\n",
    "from nltk.corpus import stopwords\n",
    "\n",
    "nltk.download('punkt')\n",
    "nltk.download('stopwords')\n"
   ]
  },
  {
   "cell_type": "code",
   "execution_count": 3,
   "metadata": {},
   "outputs": [],
   "source": [
    "paragraph = \"This is Dhir and email is dhir@gmail.com and contact number is +91-1234567890.He lives in Mumbai. \"\n",
    "\n",
    "sentences = sent_tokenize(paragraph)\n",
    "word_tokens = [word_tokenize(sentence) for sentence in sentences]\n"
   ]
  },
  {
   "cell_type": "markdown",
   "metadata": {},
   "source": [
    "remove stopwords"
   ]
  },
  {
   "cell_type": "code",
   "execution_count": 4,
   "metadata": {},
   "outputs": [],
   "source": [
    "stop_words = set(stopwords.words('english'))\n",
    "\n",
    "filtered_tokens = []\n",
    "for sentence_tokens in word_tokens:\n",
    "    filtered_sentence = [word for word in sentence_tokens if word.lower() not in stop_words]\n",
    "    filtered_tokens.append(filtered_sentence)\n"
   ]
  },
  {
   "cell_type": "code",
   "execution_count": 11,
   "metadata": {},
   "outputs": [],
   "source": [
    "import re\n",
    "\n",
    "def find_pii(tokens):\n",
    "    pii_patterns = [\n",
    "        r\"\\b\\d{3}-\\d{2}-\\d{4}\\b\",   # Social Security Numbers (SSNs)\n",
    "        r\"\\b\\d{9}\\b\",               # Alternative format of SSNs\n",
    "        r\"\\b\\d{4}-\\d{4}-\\d{4}\\b\"    # Phone numbers\n",
    "    ]\n",
    "\n",
    "    pii_tokens = []\n",
    "    for token in tokens:\n",
    "        for pattern in pii_patterns:\n",
    "            if re.match(pattern, token):\n",
    "                pii_tokens.append(token)\n",
    "                break\n",
    "\n",
    "    return pii_tokens\n",
    "\n",
    "def find_spdi(tokens):\n",
    "    spdi_patterns = [\n",
    "        r\"\\b(?:password|credit card|passport|driver's license|financial account)\\b\",\n",
    "        r\"\\b(?:address|birthdate|mother's maiden name|place of birth)\\b\"\n",
    "    ]\n",
    "\n",
    "    spdi_tokens = []\n",
    "    for token in tokens:\n",
    "        for pattern in spdi_patterns:\n",
    "            if re.search(pattern, token, re.I):\n",
    "                spdi_tokens.append(token)\n",
    "                break\n",
    "\n",
    "    return spdi_tokens\n",
    "\n",
    "# Your paragraph and tokenization code here...\n",
    "\n",
    "for sentence_tokens in filtered_tokens:\n",
    "    pii_tokens = find_pii(sentence_tokens)\n",
    "    spdi_tokens = find_spdi(sentence_tokens)\n",
    "\n",
    "    if pii_tokens:\n",
    "        print(\"PII:\", pii_tokens)\n",
    "    if spdi_tokens:\n",
    "        print(\"SPDI:\", spdi_tokens)\n"
   ]
  },
  {
   "cell_type": "code",
   "execution_count": 12,
   "metadata": {},
   "outputs": [
    {
     "name": "stdout",
     "output_type": "stream",
     "text": [
      "[['Dhir', 'email', 'dhir', '@', 'gmail.com', 'contact', 'number', '+91-1234567890.He', 'lives', 'Mumbai', '.']]\n"
     ]
    }
   ],
   "source": [
    "print(filtered_tokens)"
   ]
  },
  {
   "cell_type": "code",
   "execution_count": 13,
   "metadata": {},
   "outputs": [
    {
     "name": "stdout",
     "output_type": "stream",
     "text": [
      "[]\n"
     ]
    }
   ],
   "source": [
    "print(find_pii(sentence_tokens))"
   ]
  },
  {
   "cell_type": "code",
   "execution_count": 8,
   "metadata": {},
   "outputs": [
    {
     "name": "stdout",
     "output_type": "stream",
     "text": [
      "[]\n"
     ]
    }
   ],
   "source": [
    "for sentence_tokens in filtered_tokens:\n",
    "    pii_tokens = find_pii(sentence_tokens)\n",
    "    spdi_tokens = find_spdi(sentence_tokens)\n",
    "    print(spdi_tokens)\n",
    "\n",
    "    if pii_tokens:\n",
    "        print(\"PII:\", pii_tokens)\n",
    "    if spdi_tokens:\n",
    "        print(\"SPDI:\", spdi_tokens)\n"
   ]
  }
 ],
 "metadata": {
  "kernelspec": {
   "display_name": "venv-venv",
   "language": "python",
   "name": "venv-venv"
  },
  "language_info": {
   "codemirror_mode": {
    "name": "ipython",
    "version": 3
   },
   "file_extension": ".py",
   "mimetype": "text/x-python",
   "name": "python",
   "nbconvert_exporter": "python",
   "pygments_lexer": "ipython3",
   "version": "3.11.0"
  },
  "orig_nbformat": 4
 },
 "nbformat": 4,
 "nbformat_minor": 2
}
