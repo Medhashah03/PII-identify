{
 "cells": [
  {
   "cell_type": "code",
   "execution_count": 47,
   "metadata": {},
   "outputs": [
    {
     "name": "stdout",
     "output_type": "stream",
     "text": [
      "Identified PII: {'email': ['john.doe@example.com'], 'phone': ['555-123-4567']}\n",
      "Identified SPDI: ['password', 'credit card', 'social security']\n"
     ]
    }
   ],
   "source": [
    "import re\n",
    "\n",
    "def identify_pii(text):\n",
    "    # Regular expressions to identify PII\n",
    "    email_pattern = r'\\b[A-Za-z0-9._%+-]+@[A-Za-z0-9.-]+\\.[A-Z|a-z]{2,7}\\b'\n",
    "    phone_pattern = r'\\b(?:\\d{10}|\\d{3}[-.\\s]??\\d{3}[-.\\s]??\\d{4}|\\(\\d{3}\\)\\s*\\d{3}[-.\\s]??\\d{4}|\\d{3}[-.\\s]??\\d{4})\\b'\n",
    "    \n",
    "    # pii_list = []\n",
    "    \n",
    "    # # Find email addresses\n",
    "    # email_matches = re.findall(email_pattern, text)\n",
    "    # pii_list.extend(email_matches)\n",
    "    \n",
    "    # # Find phone numbers\n",
    "    # phone_matches = re.findall(phone_pattern, text)\n",
    "    # pii_list.extend(phone_matches)\n",
    "    \n",
    "    # return pii_list\n",
    "    pii_dict = {\"email\": [], \"phone\": []}\n",
    "    \n",
    "    # Find email addresses\n",
    "    email_matches = re.findall(email_pattern, text)\n",
    "    pii_dict[\"email\"].extend(email_matches)\n",
    "    \n",
    "    # Find phone numbers\n",
    "    phone_matches = re.findall(phone_pattern, text)\n",
    "    pii_dict[\"phone\"].extend(phone_matches)\n",
    "    \n",
    "    return pii_dict\n",
    "def identify_spdi(text):\n",
    "    # Regular expressions to identify SPDI\n",
    "    spdi_keywords = ['password', 'credit card', 'social security', 'financial account', 'health information']\n",
    "    \n",
    "    spdi_list = []\n",
    "    \n",
    "    # Find SPDI keywords\n",
    "    for keyword in spdi_keywords:\n",
    "        if re.search(r'\\b' + re.escape(keyword) + r'\\b', text, flags=re.IGNORECASE):\n",
    "            spdi_list.append(keyword)\n",
    "    \n",
    "    return spdi_list\n",
    "\n",
    "# Example text containing PII and SPDI\n",
    "text = \"\"\"\n",
    "My email is john.doe@example.com and my phone number is 555-123-4567.\n",
    "Please don't share my password or credit card details.\n",
    "I have a social security number: 123-45-6789.\n",
    "\"\"\"\n",
    "\n",
    "pii_results = identify_pii(text)\n",
    "spdi_results = identify_spdi(text)\n",
    "\n",
    "print(\"Identified PII:\", pii_results)\n",
    "print(\"Identified SPDI:\", spdi_results)\n"
   ]
  },
  {
   "cell_type": "code",
   "execution_count": 48,
   "metadata": {},
   "outputs": [
    {
     "name": "stdout",
     "output_type": "stream",
     "text": [
      "{\"['zkxfcxwqdskqszyausxo']\": 'john.doe@example.com', \"['450991136174']\": ['555-123-4567']}\n"
     ]
    }
   ],
   "source": [
    "import random\n",
    "import string\n",
    "\n",
    "storage_dict={}\n",
    "\n",
    "def get_random_letters(length):\n",
    "    return ''.join(random.choice(string.ascii_lowercase) for _ in range(length))\n",
    "def get_random_numbers(length):\n",
    "    return ''.join(str(random.randint(0, 9)) for _ in range(length))\n",
    "\n",
    "email_values = pii_results[\"email\"]\n",
    "phone_values = pii_results[\"phone\"]\n",
    "\n",
    "for i, email in enumerate(email_values):\n",
    "    count=0\n",
    "    for s in email:\n",
    "        count=count+1\n",
    "    random_letters = get_random_letters(count)\n",
    "    email_values[i] = random_letters\n",
    "    storage_dict[f'{email_values}']= email\n",
    "\n",
    "for i, phone in enumerate(phone_values):\n",
    "    count=0\n",
    "    for s in phone:\n",
    "        count=count+1\n",
    "    random_numbers = get_random_numbers(count)\n",
    "    phone_values[i] = random_numbers\n",
    "    storage_dict[f'{phone_values}']= [phone]\n",
    "\n",
    "print(storage_dict)"
   ]
  },
  {
   "cell_type": "code",
   "execution_count": 49,
   "metadata": {},
   "outputs": [
    {
     "name": "stdout",
     "output_type": "stream",
     "text": [
      "Keys array: [\"['zkxfcxwqdskqszyausxo']\", \"['450991136174']\"]\n"
     ]
    }
   ],
   "source": [
    "\n",
    "\n",
    "keys_array = list(storage_dict.keys())\n",
    "\n",
    "print(\"Keys array:\", keys_array)\n"
   ]
  },
  {
   "cell_type": "code",
   "execution_count": 50,
   "metadata": {},
   "outputs": [
    {
     "name": "stdout",
     "output_type": "stream",
     "text": [
      "Encrypted keys array: [\"['cnaifaztgvntvcbdxvar']\", \"['450991136174']\"]\n"
     ]
    }
   ],
   "source": [
    "#encrypt\n",
    "def caesar_cipher_encrypt(text, shift):\n",
    "    encrypted_text = ''\n",
    "    for char in text:\n",
    "        if char.isalpha():\n",
    "            base = ord('a') if char.islower() else ord('A')\n",
    "            encrypted_char = chr((ord(char) - base + shift) % 26 + base)\n",
    "        else:\n",
    "            encrypted_char = char\n",
    "        encrypted_text += encrypted_char\n",
    "    return encrypted_text\n",
    "\n",
    "encrypted_keys = [caesar_cipher_encrypt(key, 3) for key in keys_array]\n",
    "\n",
    "print(\"Encrypted keys array:\", encrypted_keys)\n"
   ]
  },
  {
   "cell_type": "code",
   "execution_count": null,
   "metadata": {},
   "outputs": [],
   "source": []
  },
  {
   "cell_type": "code",
   "execution_count": 51,
   "metadata": {},
   "outputs": [
    {
     "name": "stdout",
     "output_type": "stream",
     "text": [
      "Decrypted keys array: [\"['zkxfcxwqdskqszyausxo']\", \"['450991136174']\"]\n"
     ]
    }
   ],
   "source": [
    "#decrypt\n",
    "def caesar_cipher_decrypt(encrypted_text, shift):\n",
    "    decrypted_text = ''\n",
    "    for char in encrypted_text:\n",
    "        if char.isalpha():\n",
    "            base = ord('a') if char.islower() else ord('A')\n",
    "            decrypted_char = chr((ord(char) - base - shift) % 26 + base)\n",
    "        else:\n",
    "            decrypted_char = char\n",
    "        decrypted_text += decrypted_char\n",
    "    return decrypted_text\n",
    "\n",
    "# Assume that the encrypted_keys are already calculated from the previous example\n",
    "\n",
    "\n",
    "# Decrypt the keys using a shift value of 3 (the same value used for encryption)\n",
    "decrypted_keys = [caesar_cipher_decrypt(key, 3) for key in encrypted_keys]\n",
    "\n",
    "print(\"Decrypted keys array:\", decrypted_keys)\n"
   ]
  }
 ],
 "metadata": {
  "kernelspec": {
   "display_name": "venv-venv",
   "language": "python",
   "name": "venv-venv"
  },
  "language_info": {
   "codemirror_mode": {
    "name": "ipython",
    "version": 3
   },
   "file_extension": ".py",
   "mimetype": "text/x-python",
   "name": "python",
   "nbconvert_exporter": "python",
   "pygments_lexer": "ipython3",
   "version": "3.11.0"
  },
  "orig_nbformat": 4
 },
 "nbformat": 4,
 "nbformat_minor": 2
}
